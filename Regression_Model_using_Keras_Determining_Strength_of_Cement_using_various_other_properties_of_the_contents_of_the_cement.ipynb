{
  "nbformat": 4,
  "nbformat_minor": 0,
  "metadata": {
    "colab": {
      "name": "Regression Model using Keras - Determining Strength of Cement using various other properties of the contents of the cement",
      "provenance": [],
      "collapsed_sections": [],
      "authorship_tag": "ABX9TyOIowYMpU4Dld6rKiZa/4hn",
      "include_colab_link": true
    },
    "kernelspec": {
      "name": "python3",
      "display_name": "Python 3"
    },
    "language_info": {
      "name": "python"
    }
  },
  "cells": [
    {
      "cell_type": "markdown",
      "metadata": {
        "id": "view-in-github",
        "colab_type": "text"
      },
      "source": [
        "<a href=\"https://colab.research.google.com/github/aryankasat/Determining-Strength-of-Cement-/blob/main/Regression_Model_using_Keras_Determining_Strength_of_Cement_using_various_other_properties_of_the_contents_of_the_cement.ipynb\" target=\"_parent\"><img src=\"https://colab.research.google.com/assets/colab-badge.svg\" alt=\"Open In Colab\"/></a>"
      ]
    },
    {
      "cell_type": "markdown",
      "source": [
        "A. Build a baseline model (5 marks)\n",
        "Use the Keras library to build a neural network with the following:\n",
        "\n",
        "One hidden layer of 10 nodes, and a ReLU activation function\n",
        "\n",
        "Use the adam optimizer and the mean squared error as the loss function.\n",
        "\n",
        "Randomly split the data into a training and test sets by holding 30% of the data for testing. You can use the train_test_splithelper function from Scikit-learn.\n",
        "\n",
        "Train the model on the training data using 50 epochs.\n",
        "\n",
        "Evaluate the model on the test data and compute the mean squared error between the predicted concrete strength and the actual concrete strength. You can use the mean_squared_error function from Scikit-learn.\n",
        "\n",
        "Repeat steps 1 - 3, 50 times, i.e., create a list of 50 mean squared errors.\n",
        "\n",
        "Report the mean and the standard deviation of the mean squared errors."
      ],
      "metadata": {
        "id": "OWyDQBW_wgP4"
      }
    },
    {
      "cell_type": "markdown",
      "source": [
        "Using the Regression Model to determine the strength of the cement based on other properties of the cement material."
      ],
      "metadata": {
        "id": "hq6wkaEj1sxj"
      }
    },
    {
      "cell_type": "code",
      "source": [
        "import pandas as pd\n",
        "import numpy as np\n",
        "import keras\n",
        "#import sklearn\n",
        "from keras.models import Sequential\n",
        "from keras.layers import Dense\n",
        "from sklearn.model_selection import train_test_split"
      ],
      "metadata": {
        "id": "2xBsMtvswkEY"
      },
      "execution_count": null,
      "outputs": []
    },
    {
      "cell_type": "code",
      "source": [
        "concrete_data = pd.read_csv('/content/concrete_data.csv')\n",
        "concrete_data.head(10)"
      ],
      "metadata": {
        "colab": {
          "base_uri": "https://localhost:8080/",
          "height": 363
        },
        "id": "EAroa9WsxZmR",
        "outputId": "57a22d80-d19e-40b1-b6e6-3d0eb1beb49b"
      },
      "execution_count": null,
      "outputs": [
        {
          "output_type": "execute_result",
          "data": {
            "text/plain": [
              "   Cement  Blast Furnace Slag  Fly Ash  Water  Superplasticizer  \\\n",
              "0   540.0                 0.0      0.0  162.0               2.5   \n",
              "1   540.0                 0.0      0.0  162.0               2.5   \n",
              "2   332.5               142.5      0.0  228.0               0.0   \n",
              "3   332.5               142.5      0.0  228.0               0.0   \n",
              "4   198.6               132.4      0.0  192.0               0.0   \n",
              "5   266.0               114.0      0.0  228.0               0.0   \n",
              "6   380.0                95.0      0.0  228.0               0.0   \n",
              "7   380.0                95.0      0.0  228.0               0.0   \n",
              "8   266.0               114.0      0.0  228.0               0.0   \n",
              "9   475.0                 0.0      0.0  228.0               0.0   \n",
              "\n",
              "   Coarse Aggregate  Fine Aggregate  Age  Strength  \n",
              "0            1040.0           676.0   28     79.99  \n",
              "1            1055.0           676.0   28     61.89  \n",
              "2             932.0           594.0  270     40.27  \n",
              "3             932.0           594.0  365     41.05  \n",
              "4             978.4           825.5  360     44.30  \n",
              "5             932.0           670.0   90     47.03  \n",
              "6             932.0           594.0  365     43.70  \n",
              "7             932.0           594.0   28     36.45  \n",
              "8             932.0           670.0   28     45.85  \n",
              "9             932.0           594.0   28     39.29  "
            ],
            "text/html": [
              "\n",
              "  <div id=\"df-79f6e2b2-fc22-4143-8718-303e21fd31df\">\n",
              "    <div class=\"colab-df-container\">\n",
              "      <div>\n",
              "<style scoped>\n",
              "    .dataframe tbody tr th:only-of-type {\n",
              "        vertical-align: middle;\n",
              "    }\n",
              "\n",
              "    .dataframe tbody tr th {\n",
              "        vertical-align: top;\n",
              "    }\n",
              "\n",
              "    .dataframe thead th {\n",
              "        text-align: right;\n",
              "    }\n",
              "</style>\n",
              "<table border=\"1\" class=\"dataframe\">\n",
              "  <thead>\n",
              "    <tr style=\"text-align: right;\">\n",
              "      <th></th>\n",
              "      <th>Cement</th>\n",
              "      <th>Blast Furnace Slag</th>\n",
              "      <th>Fly Ash</th>\n",
              "      <th>Water</th>\n",
              "      <th>Superplasticizer</th>\n",
              "      <th>Coarse Aggregate</th>\n",
              "      <th>Fine Aggregate</th>\n",
              "      <th>Age</th>\n",
              "      <th>Strength</th>\n",
              "    </tr>\n",
              "  </thead>\n",
              "  <tbody>\n",
              "    <tr>\n",
              "      <th>0</th>\n",
              "      <td>540.0</td>\n",
              "      <td>0.0</td>\n",
              "      <td>0.0</td>\n",
              "      <td>162.0</td>\n",
              "      <td>2.5</td>\n",
              "      <td>1040.0</td>\n",
              "      <td>676.0</td>\n",
              "      <td>28</td>\n",
              "      <td>79.99</td>\n",
              "    </tr>\n",
              "    <tr>\n",
              "      <th>1</th>\n",
              "      <td>540.0</td>\n",
              "      <td>0.0</td>\n",
              "      <td>0.0</td>\n",
              "      <td>162.0</td>\n",
              "      <td>2.5</td>\n",
              "      <td>1055.0</td>\n",
              "      <td>676.0</td>\n",
              "      <td>28</td>\n",
              "      <td>61.89</td>\n",
              "    </tr>\n",
              "    <tr>\n",
              "      <th>2</th>\n",
              "      <td>332.5</td>\n",
              "      <td>142.5</td>\n",
              "      <td>0.0</td>\n",
              "      <td>228.0</td>\n",
              "      <td>0.0</td>\n",
              "      <td>932.0</td>\n",
              "      <td>594.0</td>\n",
              "      <td>270</td>\n",
              "      <td>40.27</td>\n",
              "    </tr>\n",
              "    <tr>\n",
              "      <th>3</th>\n",
              "      <td>332.5</td>\n",
              "      <td>142.5</td>\n",
              "      <td>0.0</td>\n",
              "      <td>228.0</td>\n",
              "      <td>0.0</td>\n",
              "      <td>932.0</td>\n",
              "      <td>594.0</td>\n",
              "      <td>365</td>\n",
              "      <td>41.05</td>\n",
              "    </tr>\n",
              "    <tr>\n",
              "      <th>4</th>\n",
              "      <td>198.6</td>\n",
              "      <td>132.4</td>\n",
              "      <td>0.0</td>\n",
              "      <td>192.0</td>\n",
              "      <td>0.0</td>\n",
              "      <td>978.4</td>\n",
              "      <td>825.5</td>\n",
              "      <td>360</td>\n",
              "      <td>44.30</td>\n",
              "    </tr>\n",
              "    <tr>\n",
              "      <th>5</th>\n",
              "      <td>266.0</td>\n",
              "      <td>114.0</td>\n",
              "      <td>0.0</td>\n",
              "      <td>228.0</td>\n",
              "      <td>0.0</td>\n",
              "      <td>932.0</td>\n",
              "      <td>670.0</td>\n",
              "      <td>90</td>\n",
              "      <td>47.03</td>\n",
              "    </tr>\n",
              "    <tr>\n",
              "      <th>6</th>\n",
              "      <td>380.0</td>\n",
              "      <td>95.0</td>\n",
              "      <td>0.0</td>\n",
              "      <td>228.0</td>\n",
              "      <td>0.0</td>\n",
              "      <td>932.0</td>\n",
              "      <td>594.0</td>\n",
              "      <td>365</td>\n",
              "      <td>43.70</td>\n",
              "    </tr>\n",
              "    <tr>\n",
              "      <th>7</th>\n",
              "      <td>380.0</td>\n",
              "      <td>95.0</td>\n",
              "      <td>0.0</td>\n",
              "      <td>228.0</td>\n",
              "      <td>0.0</td>\n",
              "      <td>932.0</td>\n",
              "      <td>594.0</td>\n",
              "      <td>28</td>\n",
              "      <td>36.45</td>\n",
              "    </tr>\n",
              "    <tr>\n",
              "      <th>8</th>\n",
              "      <td>266.0</td>\n",
              "      <td>114.0</td>\n",
              "      <td>0.0</td>\n",
              "      <td>228.0</td>\n",
              "      <td>0.0</td>\n",
              "      <td>932.0</td>\n",
              "      <td>670.0</td>\n",
              "      <td>28</td>\n",
              "      <td>45.85</td>\n",
              "    </tr>\n",
              "    <tr>\n",
              "      <th>9</th>\n",
              "      <td>475.0</td>\n",
              "      <td>0.0</td>\n",
              "      <td>0.0</td>\n",
              "      <td>228.0</td>\n",
              "      <td>0.0</td>\n",
              "      <td>932.0</td>\n",
              "      <td>594.0</td>\n",
              "      <td>28</td>\n",
              "      <td>39.29</td>\n",
              "    </tr>\n",
              "  </tbody>\n",
              "</table>\n",
              "</div>\n",
              "      <button class=\"colab-df-convert\" onclick=\"convertToInteractive('df-79f6e2b2-fc22-4143-8718-303e21fd31df')\"\n",
              "              title=\"Convert this dataframe to an interactive table.\"\n",
              "              style=\"display:none;\">\n",
              "        \n",
              "  <svg xmlns=\"http://www.w3.org/2000/svg\" height=\"24px\"viewBox=\"0 0 24 24\"\n",
              "       width=\"24px\">\n",
              "    <path d=\"M0 0h24v24H0V0z\" fill=\"none\"/>\n",
              "    <path d=\"M18.56 5.44l.94 2.06.94-2.06 2.06-.94-2.06-.94-.94-2.06-.94 2.06-2.06.94zm-11 1L8.5 8.5l.94-2.06 2.06-.94-2.06-.94L8.5 2.5l-.94 2.06-2.06.94zm10 10l.94 2.06.94-2.06 2.06-.94-2.06-.94-.94-2.06-.94 2.06-2.06.94z\"/><path d=\"M17.41 7.96l-1.37-1.37c-.4-.4-.92-.59-1.43-.59-.52 0-1.04.2-1.43.59L10.3 9.45l-7.72 7.72c-.78.78-.78 2.05 0 2.83L4 21.41c.39.39.9.59 1.41.59.51 0 1.02-.2 1.41-.59l7.78-7.78 2.81-2.81c.8-.78.8-2.07 0-2.86zM5.41 20L4 18.59l7.72-7.72 1.47 1.35L5.41 20z\"/>\n",
              "  </svg>\n",
              "      </button>\n",
              "      \n",
              "  <style>\n",
              "    .colab-df-container {\n",
              "      display:flex;\n",
              "      flex-wrap:wrap;\n",
              "      gap: 12px;\n",
              "    }\n",
              "\n",
              "    .colab-df-convert {\n",
              "      background-color: #E8F0FE;\n",
              "      border: none;\n",
              "      border-radius: 50%;\n",
              "      cursor: pointer;\n",
              "      display: none;\n",
              "      fill: #1967D2;\n",
              "      height: 32px;\n",
              "      padding: 0 0 0 0;\n",
              "      width: 32px;\n",
              "    }\n",
              "\n",
              "    .colab-df-convert:hover {\n",
              "      background-color: #E2EBFA;\n",
              "      box-shadow: 0px 1px 2px rgba(60, 64, 67, 0.3), 0px 1px 3px 1px rgba(60, 64, 67, 0.15);\n",
              "      fill: #174EA6;\n",
              "    }\n",
              "\n",
              "    [theme=dark] .colab-df-convert {\n",
              "      background-color: #3B4455;\n",
              "      fill: #D2E3FC;\n",
              "    }\n",
              "\n",
              "    [theme=dark] .colab-df-convert:hover {\n",
              "      background-color: #434B5C;\n",
              "      box-shadow: 0px 1px 3px 1px rgba(0, 0, 0, 0.15);\n",
              "      filter: drop-shadow(0px 1px 2px rgba(0, 0, 0, 0.3));\n",
              "      fill: #FFFFFF;\n",
              "    }\n",
              "  </style>\n",
              "\n",
              "      <script>\n",
              "        const buttonEl =\n",
              "          document.querySelector('#df-79f6e2b2-fc22-4143-8718-303e21fd31df button.colab-df-convert');\n",
              "        buttonEl.style.display =\n",
              "          google.colab.kernel.accessAllowed ? 'block' : 'none';\n",
              "\n",
              "        async function convertToInteractive(key) {\n",
              "          const element = document.querySelector('#df-79f6e2b2-fc22-4143-8718-303e21fd31df');\n",
              "          const dataTable =\n",
              "            await google.colab.kernel.invokeFunction('convertToInteractive',\n",
              "                                                     [key], {});\n",
              "          if (!dataTable) return;\n",
              "\n",
              "          const docLinkHtml = 'Like what you see? Visit the ' +\n",
              "            '<a target=\"_blank\" href=https://colab.research.google.com/notebooks/data_table.ipynb>data table notebook</a>'\n",
              "            + ' to learn more about interactive tables.';\n",
              "          element.innerHTML = '';\n",
              "          dataTable['output_type'] = 'display_data';\n",
              "          await google.colab.output.renderOutput(dataTable, element);\n",
              "          const docLink = document.createElement('div');\n",
              "          docLink.innerHTML = docLinkHtml;\n",
              "          element.appendChild(docLink);\n",
              "        }\n",
              "      </script>\n",
              "    </div>\n",
              "  </div>\n",
              "  "
            ]
          },
          "metadata": {},
          "execution_count": 2
        }
      ]
    },
    {
      "cell_type": "code",
      "source": [
        "concrete_data.isnull().sum()"
      ],
      "metadata": {
        "colab": {
          "base_uri": "https://localhost:8080/"
        },
        "id": "aYkO4t0_1WHa",
        "outputId": "0bb83ee6-40c6-472b-d5b2-59b148a98ab8"
      },
      "execution_count": null,
      "outputs": [
        {
          "output_type": "execute_result",
          "data": {
            "text/plain": [
              "Cement                0\n",
              "Blast Furnace Slag    0\n",
              "Fly Ash               0\n",
              "Water                 0\n",
              "Superplasticizer      0\n",
              "Coarse Aggregate      0\n",
              "Fine Aggregate        0\n",
              "Age                   0\n",
              "Strength              0\n",
              "dtype: int64"
            ]
          },
          "metadata": {},
          "execution_count": 3
        }
      ]
    },
    {
      "cell_type": "code",
      "source": [
        "concrete_data_columns = concrete_data.columns\n"
      ],
      "metadata": {
        "id": "mNJTIY2a1hNL"
      },
      "execution_count": null,
      "outputs": []
    },
    {
      "cell_type": "code",
      "source": [
        "target = concrete_data['Strength']\n",
        "target.head(10)"
      ],
      "metadata": {
        "colab": {
          "base_uri": "https://localhost:8080/"
        },
        "id": "W33pSRbg1i2C",
        "outputId": "a3794d86-a7cb-4aa1-a46f-719de665e48f"
      },
      "execution_count": null,
      "outputs": [
        {
          "output_type": "execute_result",
          "data": {
            "text/plain": [
              "0    79.99\n",
              "1    61.89\n",
              "2    40.27\n",
              "3    41.05\n",
              "4    44.30\n",
              "5    47.03\n",
              "6    43.70\n",
              "7    36.45\n",
              "8    45.85\n",
              "9    39.29\n",
              "Name: Strength, dtype: float64"
            ]
          },
          "metadata": {},
          "execution_count": 5
        }
      ]
    },
    {
      "cell_type": "code",
      "source": [
        "predictors = concrete_data.iloc[:, :-1]\n",
        "predictors.head(10)"
      ],
      "metadata": {
        "colab": {
          "base_uri": "https://localhost:8080/",
          "height": 363
        },
        "id": "izbR0vgt1mBT",
        "outputId": "6de3ae72-b1d5-4604-9df1-1a31722bf82d"
      },
      "execution_count": null,
      "outputs": [
        {
          "output_type": "execute_result",
          "data": {
            "text/plain": [
              "   Cement  Blast Furnace Slag  Fly Ash  Water  Superplasticizer  \\\n",
              "0   540.0                 0.0      0.0  162.0               2.5   \n",
              "1   540.0                 0.0      0.0  162.0               2.5   \n",
              "2   332.5               142.5      0.0  228.0               0.0   \n",
              "3   332.5               142.5      0.0  228.0               0.0   \n",
              "4   198.6               132.4      0.0  192.0               0.0   \n",
              "5   266.0               114.0      0.0  228.0               0.0   \n",
              "6   380.0                95.0      0.0  228.0               0.0   \n",
              "7   380.0                95.0      0.0  228.0               0.0   \n",
              "8   266.0               114.0      0.0  228.0               0.0   \n",
              "9   475.0                 0.0      0.0  228.0               0.0   \n",
              "\n",
              "   Coarse Aggregate  Fine Aggregate  Age  \n",
              "0            1040.0           676.0   28  \n",
              "1            1055.0           676.0   28  \n",
              "2             932.0           594.0  270  \n",
              "3             932.0           594.0  365  \n",
              "4             978.4           825.5  360  \n",
              "5             932.0           670.0   90  \n",
              "6             932.0           594.0  365  \n",
              "7             932.0           594.0   28  \n",
              "8             932.0           670.0   28  \n",
              "9             932.0           594.0   28  "
            ],
            "text/html": [
              "\n",
              "  <div id=\"df-bcf0ca92-37f3-4d44-b0a5-9f0455bd443a\">\n",
              "    <div class=\"colab-df-container\">\n",
              "      <div>\n",
              "<style scoped>\n",
              "    .dataframe tbody tr th:only-of-type {\n",
              "        vertical-align: middle;\n",
              "    }\n",
              "\n",
              "    .dataframe tbody tr th {\n",
              "        vertical-align: top;\n",
              "    }\n",
              "\n",
              "    .dataframe thead th {\n",
              "        text-align: right;\n",
              "    }\n",
              "</style>\n",
              "<table border=\"1\" class=\"dataframe\">\n",
              "  <thead>\n",
              "    <tr style=\"text-align: right;\">\n",
              "      <th></th>\n",
              "      <th>Cement</th>\n",
              "      <th>Blast Furnace Slag</th>\n",
              "      <th>Fly Ash</th>\n",
              "      <th>Water</th>\n",
              "      <th>Superplasticizer</th>\n",
              "      <th>Coarse Aggregate</th>\n",
              "      <th>Fine Aggregate</th>\n",
              "      <th>Age</th>\n",
              "    </tr>\n",
              "  </thead>\n",
              "  <tbody>\n",
              "    <tr>\n",
              "      <th>0</th>\n",
              "      <td>540.0</td>\n",
              "      <td>0.0</td>\n",
              "      <td>0.0</td>\n",
              "      <td>162.0</td>\n",
              "      <td>2.5</td>\n",
              "      <td>1040.0</td>\n",
              "      <td>676.0</td>\n",
              "      <td>28</td>\n",
              "    </tr>\n",
              "    <tr>\n",
              "      <th>1</th>\n",
              "      <td>540.0</td>\n",
              "      <td>0.0</td>\n",
              "      <td>0.0</td>\n",
              "      <td>162.0</td>\n",
              "      <td>2.5</td>\n",
              "      <td>1055.0</td>\n",
              "      <td>676.0</td>\n",
              "      <td>28</td>\n",
              "    </tr>\n",
              "    <tr>\n",
              "      <th>2</th>\n",
              "      <td>332.5</td>\n",
              "      <td>142.5</td>\n",
              "      <td>0.0</td>\n",
              "      <td>228.0</td>\n",
              "      <td>0.0</td>\n",
              "      <td>932.0</td>\n",
              "      <td>594.0</td>\n",
              "      <td>270</td>\n",
              "    </tr>\n",
              "    <tr>\n",
              "      <th>3</th>\n",
              "      <td>332.5</td>\n",
              "      <td>142.5</td>\n",
              "      <td>0.0</td>\n",
              "      <td>228.0</td>\n",
              "      <td>0.0</td>\n",
              "      <td>932.0</td>\n",
              "      <td>594.0</td>\n",
              "      <td>365</td>\n",
              "    </tr>\n",
              "    <tr>\n",
              "      <th>4</th>\n",
              "      <td>198.6</td>\n",
              "      <td>132.4</td>\n",
              "      <td>0.0</td>\n",
              "      <td>192.0</td>\n",
              "      <td>0.0</td>\n",
              "      <td>978.4</td>\n",
              "      <td>825.5</td>\n",
              "      <td>360</td>\n",
              "    </tr>\n",
              "    <tr>\n",
              "      <th>5</th>\n",
              "      <td>266.0</td>\n",
              "      <td>114.0</td>\n",
              "      <td>0.0</td>\n",
              "      <td>228.0</td>\n",
              "      <td>0.0</td>\n",
              "      <td>932.0</td>\n",
              "      <td>670.0</td>\n",
              "      <td>90</td>\n",
              "    </tr>\n",
              "    <tr>\n",
              "      <th>6</th>\n",
              "      <td>380.0</td>\n",
              "      <td>95.0</td>\n",
              "      <td>0.0</td>\n",
              "      <td>228.0</td>\n",
              "      <td>0.0</td>\n",
              "      <td>932.0</td>\n",
              "      <td>594.0</td>\n",
              "      <td>365</td>\n",
              "    </tr>\n",
              "    <tr>\n",
              "      <th>7</th>\n",
              "      <td>380.0</td>\n",
              "      <td>95.0</td>\n",
              "      <td>0.0</td>\n",
              "      <td>228.0</td>\n",
              "      <td>0.0</td>\n",
              "      <td>932.0</td>\n",
              "      <td>594.0</td>\n",
              "      <td>28</td>\n",
              "    </tr>\n",
              "    <tr>\n",
              "      <th>8</th>\n",
              "      <td>266.0</td>\n",
              "      <td>114.0</td>\n",
              "      <td>0.0</td>\n",
              "      <td>228.0</td>\n",
              "      <td>0.0</td>\n",
              "      <td>932.0</td>\n",
              "      <td>670.0</td>\n",
              "      <td>28</td>\n",
              "    </tr>\n",
              "    <tr>\n",
              "      <th>9</th>\n",
              "      <td>475.0</td>\n",
              "      <td>0.0</td>\n",
              "      <td>0.0</td>\n",
              "      <td>228.0</td>\n",
              "      <td>0.0</td>\n",
              "      <td>932.0</td>\n",
              "      <td>594.0</td>\n",
              "      <td>28</td>\n",
              "    </tr>\n",
              "  </tbody>\n",
              "</table>\n",
              "</div>\n",
              "      <button class=\"colab-df-convert\" onclick=\"convertToInteractive('df-bcf0ca92-37f3-4d44-b0a5-9f0455bd443a')\"\n",
              "              title=\"Convert this dataframe to an interactive table.\"\n",
              "              style=\"display:none;\">\n",
              "        \n",
              "  <svg xmlns=\"http://www.w3.org/2000/svg\" height=\"24px\"viewBox=\"0 0 24 24\"\n",
              "       width=\"24px\">\n",
              "    <path d=\"M0 0h24v24H0V0z\" fill=\"none\"/>\n",
              "    <path d=\"M18.56 5.44l.94 2.06.94-2.06 2.06-.94-2.06-.94-.94-2.06-.94 2.06-2.06.94zm-11 1L8.5 8.5l.94-2.06 2.06-.94-2.06-.94L8.5 2.5l-.94 2.06-2.06.94zm10 10l.94 2.06.94-2.06 2.06-.94-2.06-.94-.94-2.06-.94 2.06-2.06.94z\"/><path d=\"M17.41 7.96l-1.37-1.37c-.4-.4-.92-.59-1.43-.59-.52 0-1.04.2-1.43.59L10.3 9.45l-7.72 7.72c-.78.78-.78 2.05 0 2.83L4 21.41c.39.39.9.59 1.41.59.51 0 1.02-.2 1.41-.59l7.78-7.78 2.81-2.81c.8-.78.8-2.07 0-2.86zM5.41 20L4 18.59l7.72-7.72 1.47 1.35L5.41 20z\"/>\n",
              "  </svg>\n",
              "      </button>\n",
              "      \n",
              "  <style>\n",
              "    .colab-df-container {\n",
              "      display:flex;\n",
              "      flex-wrap:wrap;\n",
              "      gap: 12px;\n",
              "    }\n",
              "\n",
              "    .colab-df-convert {\n",
              "      background-color: #E8F0FE;\n",
              "      border: none;\n",
              "      border-radius: 50%;\n",
              "      cursor: pointer;\n",
              "      display: none;\n",
              "      fill: #1967D2;\n",
              "      height: 32px;\n",
              "      padding: 0 0 0 0;\n",
              "      width: 32px;\n",
              "    }\n",
              "\n",
              "    .colab-df-convert:hover {\n",
              "      background-color: #E2EBFA;\n",
              "      box-shadow: 0px 1px 2px rgba(60, 64, 67, 0.3), 0px 1px 3px 1px rgba(60, 64, 67, 0.15);\n",
              "      fill: #174EA6;\n",
              "    }\n",
              "\n",
              "    [theme=dark] .colab-df-convert {\n",
              "      background-color: #3B4455;\n",
              "      fill: #D2E3FC;\n",
              "    }\n",
              "\n",
              "    [theme=dark] .colab-df-convert:hover {\n",
              "      background-color: #434B5C;\n",
              "      box-shadow: 0px 1px 3px 1px rgba(0, 0, 0, 0.15);\n",
              "      filter: drop-shadow(0px 1px 2px rgba(0, 0, 0, 0.3));\n",
              "      fill: #FFFFFF;\n",
              "    }\n",
              "  </style>\n",
              "\n",
              "      <script>\n",
              "        const buttonEl =\n",
              "          document.querySelector('#df-bcf0ca92-37f3-4d44-b0a5-9f0455bd443a button.colab-df-convert');\n",
              "        buttonEl.style.display =\n",
              "          google.colab.kernel.accessAllowed ? 'block' : 'none';\n",
              "\n",
              "        async function convertToInteractive(key) {\n",
              "          const element = document.querySelector('#df-bcf0ca92-37f3-4d44-b0a5-9f0455bd443a');\n",
              "          const dataTable =\n",
              "            await google.colab.kernel.invokeFunction('convertToInteractive',\n",
              "                                                     [key], {});\n",
              "          if (!dataTable) return;\n",
              "\n",
              "          const docLinkHtml = 'Like what you see? Visit the ' +\n",
              "            '<a target=\"_blank\" href=https://colab.research.google.com/notebooks/data_table.ipynb>data table notebook</a>'\n",
              "            + ' to learn more about interactive tables.';\n",
              "          element.innerHTML = '';\n",
              "          dataTable['output_type'] = 'display_data';\n",
              "          await google.colab.output.renderOutput(dataTable, element);\n",
              "          const docLink = document.createElement('div');\n",
              "          docLink.innerHTML = docLinkHtml;\n",
              "          element.appendChild(docLink);\n",
              "        }\n",
              "      </script>\n",
              "    </div>\n",
              "  </div>\n",
              "  "
            ]
          },
          "metadata": {},
          "execution_count": 6
        }
      ]
    },
    {
      "cell_type": "markdown",
      "source": [
        "Create a function that defines our regression model for us so that we can conveniently call it to create our model:\n",
        "\n",
        "1. One hidden layer of 10 nodes, and a ReLU activation function\n",
        "2. Use the adam optimizer and the mean squared error as the loss function."
      ],
      "metadata": {
        "id": "P11K1kEx18DR"
      }
    },
    {
      "cell_type": "code",
      "source": [
        "#num of inputs = num of predictors colums\n",
        "n_cols = predictors.shape[1]\n",
        "def regression_model():\n",
        "    model = Sequential()\n",
        "    model.add(Dense(10, activation='relu', input_shape=(n_cols,)))\n",
        "    model.add(Dense(1))\n",
        "    \n",
        "    model.compile(optimizer='adam', loss='mean_squared_error')\n",
        "    return model\n",
        "      "
      ],
      "metadata": {
        "id": "xA0HOtjB2DTU"
      },
      "execution_count": null,
      "outputs": []
    },
    {
      "cell_type": "markdown",
      "source": [
        "Build model"
      ],
      "metadata": {
        "id": "f5Bb1BZY2FMC"
      }
    },
    {
      "cell_type": "code",
      "source": [
        "model = regression_model()"
      ],
      "metadata": {
        "id": "4e-VXEKs2GjC"
      },
      "execution_count": null,
      "outputs": []
    },
    {
      "cell_type": "code",
      "source": [
        "list_of_mean_squared_error = []\n",
        "for cycle in range(50):\n",
        "    #Randomly split the data into a training set (70%) and a test set (30%):  \n",
        "    X_train, X_test, y_train, y_test = train_test_split(predictors, target, test_size=0.3)\n",
        "    #Train and test the model at the same time\n",
        "    res = model.fit(X_train, y_train, epochs=50, verbose=0, validation_data=(X_test, y_test))\n",
        "    #Find mean_squared_error as last value in history.\n",
        "    mean_squared_error = res.history['val_loss'][-1]\n",
        "    #Add value of mean_squared_error for every cycle in list.\n",
        "    list_of_mean_squared_error.append(mean_squared_error)\n",
        "    print('Cycle #{}: mean_squared_error {}'.format(cycle+1, mean_squared_error))"
      ],
      "metadata": {
        "colab": {
          "base_uri": "https://localhost:8080/"
        },
        "id": "dG5Ibnzw2H-p",
        "outputId": "19e22d33-dff1-4ddf-f5c8-fb901ed953a5"
      },
      "execution_count": null,
      "outputs": [
        {
          "output_type": "stream",
          "name": "stdout",
          "text": [
            "Cycle #1: mean_squared_error 744.3638305664062\n",
            "Cycle #2: mean_squared_error 173.18035888671875\n",
            "Cycle #3: mean_squared_error 126.02095031738281\n",
            "Cycle #4: mean_squared_error 106.77983093261719\n",
            "Cycle #5: mean_squared_error 106.1463394165039\n",
            "Cycle #6: mean_squared_error 119.01741027832031\n",
            "Cycle #7: mean_squared_error 114.61709594726562\n",
            "Cycle #8: mean_squared_error 105.11212921142578\n",
            "Cycle #9: mean_squared_error 109.91791534423828\n",
            "Cycle #10: mean_squared_error 98.93273162841797\n",
            "Cycle #11: mean_squared_error 117.15143585205078\n",
            "Cycle #12: mean_squared_error 103.65735626220703\n",
            "Cycle #13: mean_squared_error 82.66922760009766\n",
            "Cycle #14: mean_squared_error 54.124183654785156\n",
            "Cycle #15: mean_squared_error 48.52510452270508\n",
            "Cycle #16: mean_squared_error 49.93021011352539\n",
            "Cycle #17: mean_squared_error 51.247188568115234\n",
            "Cycle #18: mean_squared_error 60.81231689453125\n",
            "Cycle #19: mean_squared_error 48.11209487915039\n",
            "Cycle #20: mean_squared_error 54.22616958618164\n",
            "Cycle #21: mean_squared_error 56.340641021728516\n",
            "Cycle #22: mean_squared_error 47.372737884521484\n",
            "Cycle #23: mean_squared_error 55.47240447998047\n",
            "Cycle #24: mean_squared_error 44.858116149902344\n",
            "Cycle #25: mean_squared_error 49.05370330810547\n",
            "Cycle #26: mean_squared_error 47.9701042175293\n",
            "Cycle #27: mean_squared_error 47.23834228515625\n",
            "Cycle #28: mean_squared_error 51.347896575927734\n",
            "Cycle #29: mean_squared_error 50.86997985839844\n",
            "Cycle #30: mean_squared_error 45.030120849609375\n",
            "Cycle #31: mean_squared_error 46.53770065307617\n",
            "Cycle #32: mean_squared_error 57.153507232666016\n",
            "Cycle #33: mean_squared_error 49.76276779174805\n",
            "Cycle #34: mean_squared_error 48.17684555053711\n",
            "Cycle #35: mean_squared_error 60.10744094848633\n",
            "Cycle #36: mean_squared_error 58.367156982421875\n",
            "Cycle #37: mean_squared_error 48.63612365722656\n",
            "Cycle #38: mean_squared_error 44.64168930053711\n",
            "Cycle #39: mean_squared_error 59.081302642822266\n",
            "Cycle #40: mean_squared_error 57.7285270690918\n",
            "Cycle #41: mean_squared_error 51.68598937988281\n",
            "Cycle #42: mean_squared_error 43.08329391479492\n",
            "Cycle #43: mean_squared_error 45.89632797241211\n",
            "Cycle #44: mean_squared_error 54.77534484863281\n",
            "Cycle #45: mean_squared_error 47.55567169189453\n",
            "Cycle #46: mean_squared_error 49.041473388671875\n",
            "Cycle #47: mean_squared_error 43.773563385009766\n",
            "Cycle #48: mean_squared_error 55.49421691894531\n",
            "Cycle #49: mean_squared_error 39.566566467285156\n",
            "Cycle #50: mean_squared_error 47.4265251159668\n"
          ]
        }
      ]
    },
    {
      "cell_type": "code",
      "source": [
        "print('The mean of the mean squared errors: {}'.format(np.mean(list_of_mean_squared_error)))\n",
        "print('The standard deviation of the mean squared errors: {}'.format(np.std(list_of_mean_squared_error)))"
      ],
      "metadata": {
        "colab": {
          "base_uri": "https://localhost:8080/"
        },
        "id": "tTudOQOT2QRk",
        "outputId": "3824895d-4ae2-4b9a-dc49-c913f40e3bab"
      },
      "execution_count": null,
      "outputs": [
        {
          "output_type": "stream",
          "name": "stdout",
          "text": [
            "The mean of the mean squared errors: 79.5717992401123\n",
            "The standard deviation of the mean squared errors: 99.31339529809723\n"
          ]
        }
      ]
    },
    {
      "cell_type": "markdown",
      "source": [
        "B. Normalize the data (5 marks)\n"
      ],
      "metadata": {
        "id": "hbVyK_vR3SeF"
      }
    },
    {
      "cell_type": "code",
      "source": [
        "predictors_norm = (predictors - predictors.mean())/predictors.std()\n",
        "predictors_norm.head(10)"
      ],
      "metadata": {
        "colab": {
          "base_uri": "https://localhost:8080/",
          "height": 363
        },
        "id": "pSbLILul3Wi7",
        "outputId": "71a4389d-699d-4b61-a376-11a09a8b511b"
      },
      "execution_count": null,
      "outputs": [
        {
          "output_type": "execute_result",
          "data": {
            "text/plain": [
              "     Cement  Blast Furnace Slag   Fly Ash     Water  Superplasticizer  \\\n",
              "0  2.476712           -0.856472 -0.846733 -0.916319         -0.620147   \n",
              "1  2.476712           -0.856472 -0.846733 -0.916319         -0.620147   \n",
              "2  0.491187            0.795140 -0.846733  2.174405         -1.038638   \n",
              "3  0.491187            0.795140 -0.846733  2.174405         -1.038638   \n",
              "4 -0.790075            0.678079 -0.846733  0.488555         -1.038638   \n",
              "5 -0.145138            0.464818 -0.846733  2.174405         -1.038638   \n",
              "6  0.945704            0.244603 -0.846733  2.174405         -1.038638   \n",
              "7  0.945704            0.244603 -0.846733  2.174405         -1.038638   \n",
              "8 -0.145138            0.464818 -0.846733  2.174405         -1.038638   \n",
              "9  1.854740           -0.856472 -0.846733  2.174405         -1.038638   \n",
              "\n",
              "   Coarse Aggregate  Fine Aggregate       Age  \n",
              "0          0.862735       -1.217079 -0.279597  \n",
              "1          1.055651       -1.217079 -0.279597  \n",
              "2         -0.526262       -2.239829  3.551340  \n",
              "3         -0.526262       -2.239829  5.055221  \n",
              "4          0.070492        0.647569  4.976069  \n",
              "5         -0.526262       -1.291914  0.701883  \n",
              "6         -0.526262       -2.239829  5.055221  \n",
              "7         -0.526262       -2.239829 -0.279597  \n",
              "8         -0.526262       -1.291914 -0.279597  \n",
              "9         -0.526262       -2.239829 -0.279597  "
            ],
            "text/html": [
              "\n",
              "  <div id=\"df-9a901f7e-0cce-4cba-bff3-28b63820b763\">\n",
              "    <div class=\"colab-df-container\">\n",
              "      <div>\n",
              "<style scoped>\n",
              "    .dataframe tbody tr th:only-of-type {\n",
              "        vertical-align: middle;\n",
              "    }\n",
              "\n",
              "    .dataframe tbody tr th {\n",
              "        vertical-align: top;\n",
              "    }\n",
              "\n",
              "    .dataframe thead th {\n",
              "        text-align: right;\n",
              "    }\n",
              "</style>\n",
              "<table border=\"1\" class=\"dataframe\">\n",
              "  <thead>\n",
              "    <tr style=\"text-align: right;\">\n",
              "      <th></th>\n",
              "      <th>Cement</th>\n",
              "      <th>Blast Furnace Slag</th>\n",
              "      <th>Fly Ash</th>\n",
              "      <th>Water</th>\n",
              "      <th>Superplasticizer</th>\n",
              "      <th>Coarse Aggregate</th>\n",
              "      <th>Fine Aggregate</th>\n",
              "      <th>Age</th>\n",
              "    </tr>\n",
              "  </thead>\n",
              "  <tbody>\n",
              "    <tr>\n",
              "      <th>0</th>\n",
              "      <td>2.476712</td>\n",
              "      <td>-0.856472</td>\n",
              "      <td>-0.846733</td>\n",
              "      <td>-0.916319</td>\n",
              "      <td>-0.620147</td>\n",
              "      <td>0.862735</td>\n",
              "      <td>-1.217079</td>\n",
              "      <td>-0.279597</td>\n",
              "    </tr>\n",
              "    <tr>\n",
              "      <th>1</th>\n",
              "      <td>2.476712</td>\n",
              "      <td>-0.856472</td>\n",
              "      <td>-0.846733</td>\n",
              "      <td>-0.916319</td>\n",
              "      <td>-0.620147</td>\n",
              "      <td>1.055651</td>\n",
              "      <td>-1.217079</td>\n",
              "      <td>-0.279597</td>\n",
              "    </tr>\n",
              "    <tr>\n",
              "      <th>2</th>\n",
              "      <td>0.491187</td>\n",
              "      <td>0.795140</td>\n",
              "      <td>-0.846733</td>\n",
              "      <td>2.174405</td>\n",
              "      <td>-1.038638</td>\n",
              "      <td>-0.526262</td>\n",
              "      <td>-2.239829</td>\n",
              "      <td>3.551340</td>\n",
              "    </tr>\n",
              "    <tr>\n",
              "      <th>3</th>\n",
              "      <td>0.491187</td>\n",
              "      <td>0.795140</td>\n",
              "      <td>-0.846733</td>\n",
              "      <td>2.174405</td>\n",
              "      <td>-1.038638</td>\n",
              "      <td>-0.526262</td>\n",
              "      <td>-2.239829</td>\n",
              "      <td>5.055221</td>\n",
              "    </tr>\n",
              "    <tr>\n",
              "      <th>4</th>\n",
              "      <td>-0.790075</td>\n",
              "      <td>0.678079</td>\n",
              "      <td>-0.846733</td>\n",
              "      <td>0.488555</td>\n",
              "      <td>-1.038638</td>\n",
              "      <td>0.070492</td>\n",
              "      <td>0.647569</td>\n",
              "      <td>4.976069</td>\n",
              "    </tr>\n",
              "    <tr>\n",
              "      <th>5</th>\n",
              "      <td>-0.145138</td>\n",
              "      <td>0.464818</td>\n",
              "      <td>-0.846733</td>\n",
              "      <td>2.174405</td>\n",
              "      <td>-1.038638</td>\n",
              "      <td>-0.526262</td>\n",
              "      <td>-1.291914</td>\n",
              "      <td>0.701883</td>\n",
              "    </tr>\n",
              "    <tr>\n",
              "      <th>6</th>\n",
              "      <td>0.945704</td>\n",
              "      <td>0.244603</td>\n",
              "      <td>-0.846733</td>\n",
              "      <td>2.174405</td>\n",
              "      <td>-1.038638</td>\n",
              "      <td>-0.526262</td>\n",
              "      <td>-2.239829</td>\n",
              "      <td>5.055221</td>\n",
              "    </tr>\n",
              "    <tr>\n",
              "      <th>7</th>\n",
              "      <td>0.945704</td>\n",
              "      <td>0.244603</td>\n",
              "      <td>-0.846733</td>\n",
              "      <td>2.174405</td>\n",
              "      <td>-1.038638</td>\n",
              "      <td>-0.526262</td>\n",
              "      <td>-2.239829</td>\n",
              "      <td>-0.279597</td>\n",
              "    </tr>\n",
              "    <tr>\n",
              "      <th>8</th>\n",
              "      <td>-0.145138</td>\n",
              "      <td>0.464818</td>\n",
              "      <td>-0.846733</td>\n",
              "      <td>2.174405</td>\n",
              "      <td>-1.038638</td>\n",
              "      <td>-0.526262</td>\n",
              "      <td>-1.291914</td>\n",
              "      <td>-0.279597</td>\n",
              "    </tr>\n",
              "    <tr>\n",
              "      <th>9</th>\n",
              "      <td>1.854740</td>\n",
              "      <td>-0.856472</td>\n",
              "      <td>-0.846733</td>\n",
              "      <td>2.174405</td>\n",
              "      <td>-1.038638</td>\n",
              "      <td>-0.526262</td>\n",
              "      <td>-2.239829</td>\n",
              "      <td>-0.279597</td>\n",
              "    </tr>\n",
              "  </tbody>\n",
              "</table>\n",
              "</div>\n",
              "      <button class=\"colab-df-convert\" onclick=\"convertToInteractive('df-9a901f7e-0cce-4cba-bff3-28b63820b763')\"\n",
              "              title=\"Convert this dataframe to an interactive table.\"\n",
              "              style=\"display:none;\">\n",
              "        \n",
              "  <svg xmlns=\"http://www.w3.org/2000/svg\" height=\"24px\"viewBox=\"0 0 24 24\"\n",
              "       width=\"24px\">\n",
              "    <path d=\"M0 0h24v24H0V0z\" fill=\"none\"/>\n",
              "    <path d=\"M18.56 5.44l.94 2.06.94-2.06 2.06-.94-2.06-.94-.94-2.06-.94 2.06-2.06.94zm-11 1L8.5 8.5l.94-2.06 2.06-.94-2.06-.94L8.5 2.5l-.94 2.06-2.06.94zm10 10l.94 2.06.94-2.06 2.06-.94-2.06-.94-.94-2.06-.94 2.06-2.06.94z\"/><path d=\"M17.41 7.96l-1.37-1.37c-.4-.4-.92-.59-1.43-.59-.52 0-1.04.2-1.43.59L10.3 9.45l-7.72 7.72c-.78.78-.78 2.05 0 2.83L4 21.41c.39.39.9.59 1.41.59.51 0 1.02-.2 1.41-.59l7.78-7.78 2.81-2.81c.8-.78.8-2.07 0-2.86zM5.41 20L4 18.59l7.72-7.72 1.47 1.35L5.41 20z\"/>\n",
              "  </svg>\n",
              "      </button>\n",
              "      \n",
              "  <style>\n",
              "    .colab-df-container {\n",
              "      display:flex;\n",
              "      flex-wrap:wrap;\n",
              "      gap: 12px;\n",
              "    }\n",
              "\n",
              "    .colab-df-convert {\n",
              "      background-color: #E8F0FE;\n",
              "      border: none;\n",
              "      border-radius: 50%;\n",
              "      cursor: pointer;\n",
              "      display: none;\n",
              "      fill: #1967D2;\n",
              "      height: 32px;\n",
              "      padding: 0 0 0 0;\n",
              "      width: 32px;\n",
              "    }\n",
              "\n",
              "    .colab-df-convert:hover {\n",
              "      background-color: #E2EBFA;\n",
              "      box-shadow: 0px 1px 2px rgba(60, 64, 67, 0.3), 0px 1px 3px 1px rgba(60, 64, 67, 0.15);\n",
              "      fill: #174EA6;\n",
              "    }\n",
              "\n",
              "    [theme=dark] .colab-df-convert {\n",
              "      background-color: #3B4455;\n",
              "      fill: #D2E3FC;\n",
              "    }\n",
              "\n",
              "    [theme=dark] .colab-df-convert:hover {\n",
              "      background-color: #434B5C;\n",
              "      box-shadow: 0px 1px 3px 1px rgba(0, 0, 0, 0.15);\n",
              "      filter: drop-shadow(0px 1px 2px rgba(0, 0, 0, 0.3));\n",
              "      fill: #FFFFFF;\n",
              "    }\n",
              "  </style>\n",
              "\n",
              "      <script>\n",
              "        const buttonEl =\n",
              "          document.querySelector('#df-9a901f7e-0cce-4cba-bff3-28b63820b763 button.colab-df-convert');\n",
              "        buttonEl.style.display =\n",
              "          google.colab.kernel.accessAllowed ? 'block' : 'none';\n",
              "\n",
              "        async function convertToInteractive(key) {\n",
              "          const element = document.querySelector('#df-9a901f7e-0cce-4cba-bff3-28b63820b763');\n",
              "          const dataTable =\n",
              "            await google.colab.kernel.invokeFunction('convertToInteractive',\n",
              "                                                     [key], {});\n",
              "          if (!dataTable) return;\n",
              "\n",
              "          const docLinkHtml = 'Like what you see? Visit the ' +\n",
              "            '<a target=\"_blank\" href=https://colab.research.google.com/notebooks/data_table.ipynb>data table notebook</a>'\n",
              "            + ' to learn more about interactive tables.';\n",
              "          element.innerHTML = '';\n",
              "          dataTable['output_type'] = 'display_data';\n",
              "          await google.colab.output.renderOutput(dataTable, element);\n",
              "          const docLink = document.createElement('div');\n",
              "          docLink.innerHTML = docLinkHtml;\n",
              "          element.appendChild(docLink);\n",
              "        }\n",
              "      </script>\n",
              "    </div>\n",
              "  </div>\n",
              "  "
            ]
          },
          "metadata": {},
          "execution_count": 12
        }
      ]
    },
    {
      "cell_type": "markdown",
      "source": [
        "Build the model"
      ],
      "metadata": {
        "id": "qUaScF0I3c9r"
      }
    },
    {
      "cell_type": "code",
      "source": [
        "n_cols = predictors_norm.shape[1]\n",
        "def regression_model2():\n",
        "    model2 = Sequential()\n",
        "    model2.add(Dense(10, activation='relu', input_shape=(n_cols,)))\n",
        "    model2.add(Dense(1))\n",
        "    \n",
        "    model2.compile(optimizer='adam', loss='mean_squared_error')\n",
        "    return model2\n",
        "\n",
        "model2 = regression_model2()"
      ],
      "metadata": {
        "id": "B23eHVSS3eYp"
      },
      "execution_count": null,
      "outputs": []
    },
    {
      "cell_type": "markdown",
      "source": [
        "Train and test the model at the same time using the fit-method. We will leave out 30% of the data for validation and we will train the model for 50 epochs. And use predictors_norm instead of predictors."
      ],
      "metadata": {
        "id": "a8DGQ0kp3hTK"
      }
    },
    {
      "cell_type": "code",
      "source": [
        "list_of_mean_squared_error = []\n",
        "for cycle in range(50):\n",
        "    #Randomly split the data into a training set (70%) and a test set (30%):  \n",
        "    X_train, X_test, y_train, y_test = train_test_split(predictors_norm, target, test_size=0.3)\n",
        "    #Train and test the model at the same time\n",
        "    res = model2.fit(X_train, y_train, epochs=50, verbose=0, validation_data=(X_test, y_test))\n",
        "    #Find mean_squared_error as last value in history.\n",
        "    mean_squared_error = res.history['val_loss'][-1]\n",
        "    #Add value of mean_squared_error for every cycle in list.\n",
        "    list_of_mean_squared_error.append(mean_squared_error)\n",
        "    print('Cycle #{}: mean_squared_error {}'.format(cycle+1, mean_squared_error))"
      ],
      "metadata": {
        "colab": {
          "base_uri": "https://localhost:8080/"
        },
        "id": "pZ9gzauL3j8T",
        "outputId": "b7be5267-deff-4a85-d9ab-bf8c0bd43ef9"
      },
      "execution_count": null,
      "outputs": [
        {
          "output_type": "stream",
          "name": "stdout",
          "text": [
            "Cycle #1: mean_squared_error 323.2537536621094\n",
            "Cycle #2: mean_squared_error 171.44671630859375\n",
            "Cycle #3: mean_squared_error 127.4237060546875\n",
            "Cycle #4: mean_squared_error 86.14666748046875\n",
            "Cycle #5: mean_squared_error 68.63317108154297\n",
            "Cycle #6: mean_squared_error 52.2929573059082\n",
            "Cycle #7: mean_squared_error 43.88264083862305\n",
            "Cycle #8: mean_squared_error 44.72916793823242\n",
            "Cycle #9: mean_squared_error 39.19339370727539\n",
            "Cycle #10: mean_squared_error 38.840999603271484\n",
            "Cycle #11: mean_squared_error 49.860267639160156\n",
            "Cycle #12: mean_squared_error 40.732200622558594\n",
            "Cycle #13: mean_squared_error 38.35407257080078\n",
            "Cycle #14: mean_squared_error 37.01185607910156\n",
            "Cycle #15: mean_squared_error 43.63743209838867\n",
            "Cycle #16: mean_squared_error 32.06815719604492\n",
            "Cycle #17: mean_squared_error 38.984832763671875\n",
            "Cycle #18: mean_squared_error 41.46406936645508\n",
            "Cycle #19: mean_squared_error 37.602603912353516\n",
            "Cycle #20: mean_squared_error 33.473968505859375\n",
            "Cycle #21: mean_squared_error 39.737579345703125\n",
            "Cycle #22: mean_squared_error 36.1968879699707\n",
            "Cycle #23: mean_squared_error 40.746681213378906\n",
            "Cycle #24: mean_squared_error 35.84864044189453\n",
            "Cycle #25: mean_squared_error 33.54020690917969\n",
            "Cycle #26: mean_squared_error 38.807308197021484\n",
            "Cycle #27: mean_squared_error 37.07374954223633\n",
            "Cycle #28: mean_squared_error 39.29316711425781\n",
            "Cycle #29: mean_squared_error 33.52739334106445\n",
            "Cycle #30: mean_squared_error 33.75203323364258\n",
            "Cycle #31: mean_squared_error 35.29736328125\n",
            "Cycle #32: mean_squared_error 35.652626037597656\n",
            "Cycle #33: mean_squared_error 41.36424255371094\n",
            "Cycle #34: mean_squared_error 33.15504837036133\n",
            "Cycle #35: mean_squared_error 35.31868362426758\n",
            "Cycle #36: mean_squared_error 32.36137390136719\n",
            "Cycle #37: mean_squared_error 32.748104095458984\n",
            "Cycle #38: mean_squared_error 34.53950500488281\n",
            "Cycle #39: mean_squared_error 34.29001235961914\n",
            "Cycle #40: mean_squared_error 29.246641159057617\n",
            "Cycle #41: mean_squared_error 37.45042419433594\n",
            "Cycle #42: mean_squared_error 30.958263397216797\n",
            "Cycle #43: mean_squared_error 32.269874572753906\n",
            "Cycle #44: mean_squared_error 31.444393157958984\n",
            "Cycle #45: mean_squared_error 34.67271041870117\n",
            "Cycle #46: mean_squared_error 33.90635299682617\n",
            "Cycle #47: mean_squared_error 35.00297164916992\n",
            "Cycle #48: mean_squared_error 34.7041015625\n",
            "Cycle #49: mean_squared_error 33.91925048828125\n",
            "Cycle #50: mean_squared_error 29.076168060302734\n"
          ]
        }
      ]
    },
    {
      "cell_type": "code",
      "source": [
        "print('The mean of the mean squared errors: {}'.format(np.mean(list_of_mean_squared_error)))\n",
        "print('The standard deviation of the mean squared errors: {}'.format(np.std(list_of_mean_squared_error)))"
      ],
      "metadata": {
        "colab": {
          "base_uri": "https://localhost:8080/"
        },
        "id": "gxPOtkO439d7",
        "outputId": "92b68411-8e08-40a8-b42c-b9daf3f2459d"
      },
      "execution_count": null,
      "outputs": [
        {
          "output_type": "stream",
          "name": "stdout",
          "text": [
            "The mean of the mean squared errors: 48.69868785858154\n",
            "The standard deviation of the mean squared errors: 46.00208734332379\n"
          ]
        }
      ]
    },
    {
      "cell_type": "markdown",
      "source": [
        "The mean and the standard deviation of the mean squared errors in case B is less than in case A. And in my opinion it's not a very good idea to compare result of two poor neural networks with one hidden layer only. Data normalization does not help a lot. Error is huge for both cases: A and B."
      ],
      "metadata": {
        "id": "F4gwUAGE4d77"
      }
    },
    {
      "cell_type": "markdown",
      "source": [
        "C. Increase the number of epochs (5 marks)"
      ],
      "metadata": {
        "id": "TRlzQ5x04hD0"
      }
    },
    {
      "cell_type": "code",
      "source": [
        "def regression_model3():\n",
        "    model3 = Sequential()\n",
        "    model3.add(Dense(10, activation='relu', input_shape=(n_cols,)))\n",
        "    model3.add(Dense(1))\n",
        "    \n",
        "    model3.compile(optimizer='adam', loss='mean_squared_error')\n",
        "    return model3\n",
        "\n",
        "model3 = regression_model3() "
      ],
      "metadata": {
        "id": "odu-vIhC4ivQ"
      },
      "execution_count": null,
      "outputs": []
    },
    {
      "cell_type": "code",
      "source": [
        "list_of_mean_squared_error = []\n",
        "for cycle in range(50):\n",
        "    #Randomly split the data into a training set (70%) and a test set (30%):  \n",
        "    X_train, X_test, y_train, y_test = train_test_split(predictors_norm, target, test_size=0.3)\n",
        "    #Train and test the model at the same time\n",
        "    res = model3.fit(X_train, y_train, epochs=100, verbose=0, validation_data=(X_test, y_test))\n",
        "    #Find mean_squared_error as last value in history.\n",
        "    mean_squared_error = res.history['val_loss'][-1]\n",
        "    #Add value of mean_squared_error for every cycle in list.\n",
        "    list_of_mean_squared_error.append(mean_squared_error)\n",
        "    print('Cycle #{}: mean_squared_error {}'.format(cycle+1, mean_squared_error))"
      ],
      "metadata": {
        "colab": {
          "base_uri": "https://localhost:8080/"
        },
        "id": "D5vE4JVw4lxr",
        "outputId": "ac646027-6d61-4b6e-ecc1-8d504d8ca63c"
      },
      "execution_count": null,
      "outputs": [
        {
          "output_type": "stream",
          "name": "stdout",
          "text": [
            "Cycle #1: mean_squared_error 154.93215942382812\n",
            "Cycle #2: mean_squared_error 75.73924255371094\n",
            "Cycle #3: mean_squared_error 48.88067626953125\n",
            "Cycle #4: mean_squared_error 48.3867301940918\n",
            "Cycle #5: mean_squared_error 40.57238006591797\n",
            "Cycle #6: mean_squared_error 43.73297882080078\n",
            "Cycle #7: mean_squared_error 38.9871826171875\n",
            "Cycle #8: mean_squared_error 45.33917236328125\n",
            "Cycle #9: mean_squared_error 40.00511932373047\n",
            "Cycle #10: mean_squared_error 39.16154479980469\n",
            "Cycle #11: mean_squared_error 36.31787109375\n",
            "Cycle #12: mean_squared_error 37.353736877441406\n",
            "Cycle #13: mean_squared_error 33.4268913269043\n",
            "Cycle #14: mean_squared_error 39.04110336303711\n",
            "Cycle #15: mean_squared_error 35.53324890136719\n",
            "Cycle #16: mean_squared_error 37.62652587890625\n",
            "Cycle #17: mean_squared_error 33.731895446777344\n",
            "Cycle #18: mean_squared_error 31.205978393554688\n",
            "Cycle #19: mean_squared_error 33.29795455932617\n",
            "Cycle #20: mean_squared_error 36.29188537597656\n",
            "Cycle #21: mean_squared_error 29.669631958007812\n",
            "Cycle #22: mean_squared_error 31.25691795349121\n",
            "Cycle #23: mean_squared_error 32.32548904418945\n",
            "Cycle #24: mean_squared_error 32.50312805175781\n",
            "Cycle #25: mean_squared_error 34.12848663330078\n",
            "Cycle #26: mean_squared_error 33.723751068115234\n",
            "Cycle #27: mean_squared_error 31.201406478881836\n",
            "Cycle #28: mean_squared_error 33.249202728271484\n",
            "Cycle #29: mean_squared_error 28.369218826293945\n",
            "Cycle #30: mean_squared_error 29.881484985351562\n",
            "Cycle #31: mean_squared_error 30.57079315185547\n",
            "Cycle #32: mean_squared_error 31.81328010559082\n",
            "Cycle #33: mean_squared_error 25.830039978027344\n",
            "Cycle #34: mean_squared_error 30.997095108032227\n",
            "Cycle #35: mean_squared_error 30.66770362854004\n",
            "Cycle #36: mean_squared_error 29.611270904541016\n",
            "Cycle #37: mean_squared_error 28.379613876342773\n",
            "Cycle #38: mean_squared_error 29.425294876098633\n",
            "Cycle #39: mean_squared_error 27.45799446105957\n",
            "Cycle #40: mean_squared_error 32.187103271484375\n",
            "Cycle #41: mean_squared_error 30.87360954284668\n",
            "Cycle #42: mean_squared_error 34.403297424316406\n",
            "Cycle #43: mean_squared_error 30.51064109802246\n",
            "Cycle #44: mean_squared_error 31.293701171875\n",
            "Cycle #45: mean_squared_error 26.662464141845703\n",
            "Cycle #46: mean_squared_error 26.53067398071289\n",
            "Cycle #47: mean_squared_error 32.90142059326172\n",
            "Cycle #48: mean_squared_error 32.98257827758789\n",
            "Cycle #49: mean_squared_error 30.18080711364746\n",
            "Cycle #50: mean_squared_error 32.56538009643555\n"
          ]
        }
      ]
    },
    {
      "cell_type": "code",
      "source": [
        "print('The mean of the mean squared errors: {}'.format(np.mean(list_of_mean_squared_error)))\n",
        "print('The standard deviation of the mean squared errors: {}'.format(np.std(list_of_mean_squared_error)))"
      ],
      "metadata": {
        "colab": {
          "base_uri": "https://localhost:8080/"
        },
        "id": "HmF8dbMm4njU",
        "outputId": "243ffbbc-c5af-49a4-aa29-240c89aedb9b"
      },
      "execution_count": null,
      "outputs": [
        {
          "output_type": "stream",
          "name": "stdout",
          "text": [
            "The mean of the mean squared errors: 37.03435516357422\n",
            "The standard deviation of the mean squared errors: 18.562364814499965\n"
          ]
        }
      ]
    },
    {
      "cell_type": "markdown",
      "source": [
        "The mean and the standard deviation of the mean squared errors in case C is smaller than in case B. But in both cases error is huge. In my opinion it's not a very good idea to compare result of two poor neural networks with one hidden layer only. Number of epoch is making it efficient but not absolutely efficient"
      ],
      "metadata": {
        "id": "u5pz4pas9Ne0"
      }
    },
    {
      "cell_type": "markdown",
      "source": [
        "D. Increase the number of hidden layers (5 marks)"
      ],
      "metadata": {
        "id": "7qm5dcgs9Z9g"
      }
    },
    {
      "cell_type": "code",
      "source": [
        "def regression_model4():\n",
        "    model4 = Sequential()\n",
        "    model4.add(Dense(10, activation='relu', input_shape=(n_cols,)))\n",
        "    model4.add(Dense(10, activation='relu'))\n",
        "    model4.add(Dense(10, activation='relu'))\n",
        "    model4.add(Dense(1))\n",
        "    \n",
        "    model4.compile(optimizer='adam', loss='mean_squared_error')\n",
        "    return model4"
      ],
      "metadata": {
        "id": "9W5ezTaS9dOq"
      },
      "execution_count": null,
      "outputs": []
    },
    {
      "cell_type": "markdown",
      "source": [
        "Building model with 3 hidden layers"
      ],
      "metadata": {
        "id": "_d0KQsx39fNs"
      }
    },
    {
      "cell_type": "code",
      "source": [
        "model4 = regression_model4()"
      ],
      "metadata": {
        "id": "342fgml89hbE"
      },
      "execution_count": null,
      "outputs": []
    },
    {
      "cell_type": "code",
      "source": [
        "list_of_mean_squared_error = []\n",
        "for cycle in range(50):\n",
        "    #Randomly split the data into a training set (70%) and a test set (30%):  \n",
        "    X_train, X_test, y_train, y_test = train_test_split(predictors_norm, target, test_size=0.3)\n",
        "    #Train and test the model at the same time\n",
        "    res = model4.fit(X_train, y_train, epochs=50, verbose=0, validation_data=(X_test, y_test))\n",
        "    #Find mean_squared_error as last value in history.\n",
        "    mean_squared_error = res.history['val_loss'][-1]\n",
        "    #Add value of mean_squared_error for every cycle in list.\n",
        "    list_of_mean_squared_error.append(mean_squared_error)\n",
        "    print('Cycle #{}: mean_squared_error {}'.format(cycle+1, mean_squared_error))"
      ],
      "metadata": {
        "colab": {
          "base_uri": "https://localhost:8080/"
        },
        "id": "-k9xsq6X9jP0",
        "outputId": "908f3b92-a02e-4f5e-9d48-fc8c11a063fc"
      },
      "execution_count": null,
      "outputs": [
        {
          "output_type": "stream",
          "name": "stdout",
          "text": [
            "Cycle #1: mean_squared_error 104.62995147705078\n",
            "Cycle #2: mean_squared_error 51.53459167480469\n",
            "Cycle #3: mean_squared_error 42.880340576171875\n",
            "Cycle #4: mean_squared_error 38.11188888549805\n",
            "Cycle #5: mean_squared_error 39.006736755371094\n",
            "Cycle #6: mean_squared_error 33.86491775512695\n",
            "Cycle #7: mean_squared_error 34.51275634765625\n",
            "Cycle #8: mean_squared_error 30.14682960510254\n",
            "Cycle #9: mean_squared_error 28.240942001342773\n",
            "Cycle #10: mean_squared_error 28.641794204711914\n",
            "Cycle #11: mean_squared_error 28.394989013671875\n",
            "Cycle #12: mean_squared_error 25.837818145751953\n",
            "Cycle #13: mean_squared_error 27.27729034423828\n",
            "Cycle #14: mean_squared_error 28.76734733581543\n",
            "Cycle #15: mean_squared_error 29.756845474243164\n",
            "Cycle #16: mean_squared_error 26.903820037841797\n",
            "Cycle #17: mean_squared_error 29.94977569580078\n",
            "Cycle #18: mean_squared_error 26.657093048095703\n",
            "Cycle #19: mean_squared_error 25.93416976928711\n",
            "Cycle #20: mean_squared_error 24.561281204223633\n",
            "Cycle #21: mean_squared_error 28.415559768676758\n",
            "Cycle #22: mean_squared_error 26.476530075073242\n",
            "Cycle #23: mean_squared_error 27.418333053588867\n",
            "Cycle #24: mean_squared_error 26.22920036315918\n",
            "Cycle #25: mean_squared_error 23.175779342651367\n",
            "Cycle #26: mean_squared_error 24.992874145507812\n",
            "Cycle #27: mean_squared_error 26.913543701171875\n",
            "Cycle #28: mean_squared_error 24.996492385864258\n",
            "Cycle #29: mean_squared_error 27.885360717773438\n",
            "Cycle #30: mean_squared_error 26.53077507019043\n",
            "Cycle #31: mean_squared_error 18.944589614868164\n",
            "Cycle #32: mean_squared_error 27.59913444519043\n",
            "Cycle #33: mean_squared_error 24.537633895874023\n",
            "Cycle #34: mean_squared_error 19.967660903930664\n",
            "Cycle #35: mean_squared_error 26.769784927368164\n",
            "Cycle #36: mean_squared_error 20.790206909179688\n",
            "Cycle #37: mean_squared_error 22.959636688232422\n",
            "Cycle #38: mean_squared_error 19.929651260375977\n",
            "Cycle #39: mean_squared_error 22.167753219604492\n",
            "Cycle #40: mean_squared_error 23.452638626098633\n",
            "Cycle #41: mean_squared_error 23.20656967163086\n",
            "Cycle #42: mean_squared_error 22.256319046020508\n",
            "Cycle #43: mean_squared_error 27.083032608032227\n",
            "Cycle #44: mean_squared_error 16.221969604492188\n",
            "Cycle #45: mean_squared_error 18.045442581176758\n",
            "Cycle #46: mean_squared_error 22.270936965942383\n",
            "Cycle #47: mean_squared_error 21.830625534057617\n",
            "Cycle #48: mean_squared_error 24.90712547302246\n",
            "Cycle #49: mean_squared_error 21.308969497680664\n",
            "Cycle #50: mean_squared_error 23.082763671875\n"
          ]
        }
      ]
    },
    {
      "cell_type": "code",
      "source": [
        "print('The mean of the mean squared errors: {}'.format(np.mean(list_of_mean_squared_error)))\n",
        "print('The standard deviation of the mean squared errors: {}'.format(np.std(list_of_mean_squared_error)))"
      ],
      "metadata": {
        "colab": {
          "base_uri": "https://localhost:8080/"
        },
        "id": "ClwPQoSL9pmE",
        "outputId": "5e225bfb-f686-4d9f-a345-070621a50f31"
      },
      "execution_count": null,
      "outputs": [
        {
          "output_type": "stream",
          "name": "stdout",
          "text": [
            "The mean of the mean squared errors: 28.319561462402344\n",
            "The standard deviation of the mean squared errors: 12.515297044951271\n"
          ]
        }
      ]
    },
    {
      "cell_type": "markdown",
      "source": [
        "The mean and the standard deviation of the mean squared errors in case D is less than in case A, B and C. And it's the only case where error is not very big. It means additional layers in neural network are more important than other things. Also it proves the comparison between poor neural network with one hidden layer in previous cases is a bad idea. Result can be unpredictable."
      ],
      "metadata": {
        "id": "JkuW5nn1-h4I"
      }
    }
  ]
}